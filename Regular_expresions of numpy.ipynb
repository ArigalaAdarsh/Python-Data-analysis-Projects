{
 "cells": [
  {
   "cell_type": "code",
   "execution_count": 99,
   "id": "b4c86231",
   "metadata": {},
   "outputs": [
    {
     "name": "stdout",
     "output_type": "stream",
     "text": [
      "found\n"
     ]
    }
   ],
   "source": [
    "#Searching sub string in existing string\n",
    "\n",
    "import re\n",
    "a=\"python is a high level language\"\n",
    "b=re.search('py',a)\n",
    "if(b):\n",
    "    print(\"found\")\n",
    "else:\n",
    "    print(\"not found\")"
   ]
  },
  {
   "cell_type": "code",
   "execution_count": 100,
   "id": "1f1ba9c0",
   "metadata": {},
   "outputs": [
    {
     "name": "stdout",
     "output_type": "stream",
     "text": [
      "py\n",
      "0\n",
      "(0, 2)\n"
     ]
    }
   ],
   "source": [
    "print(b.group())\n",
    "print(b.start())\n",
    "print(b.span())"
   ]
  },
  {
   "cell_type": "code",
   "execution_count": 101,
   "id": "cc1f9515",
   "metadata": {},
   "outputs": [
    {
     "name": "stdout",
     "output_type": "stream",
     "text": [
      "found\n"
     ]
    }
   ],
   "source": [
    "a=\"python is a high level language\"\n",
    "#re.match() method used to search a sub string at starting position only\n",
    "b=re.match('p',a)\n",
    "if(b):\n",
    "    print(\"found\")\n",
    "else:\n",
    "    print(\"not found\")"
   ]
  },
  {
   "cell_type": "code",
   "execution_count": 102,
   "id": "ea9acaf4",
   "metadata": {},
   "outputs": [
    {
     "name": "stdout",
     "output_type": "stream",
     "text": [
      "Not match\n"
     ]
    }
   ],
   "source": [
    " # re.fullmatch() method used to search entire string\n",
    "    \n",
    "string = \"Python is high level language\"\n",
    "x = re.fullmatch('Python',string)\n",
    "if x:\n",
    "    print(\"Found\")\n",
    "else:\n",
    "    print(\"Not match\")"
   ]
  },
  {
   "cell_type": "code",
   "execution_count": 103,
   "id": "52a02e79",
   "metadata": {},
   "outputs": [
    {
     "name": "stdout",
     "output_type": "stream",
     "text": [
      "2\n",
      "Found\n"
     ]
    }
   ],
   "source": [
    "string = \"Python is high level language . Python is interpreted language\"\n",
    "x = re.findall('Python',string)\n",
    "print(len(x))\n",
    "if x:\n",
    "    print(\"Found\")\n",
    "else:\n",
    "    print(\"Not match\")"
   ]
  },
  {
   "cell_type": "code",
   "execution_count": 104,
   "id": "4b5a724b",
   "metadata": {},
   "outputs": [
    {
     "name": "stdout",
     "output_type": "stream",
     "text": [
      "['Python', 'is', 'high', 'level', 'language', '.', 'Python', 'is', 'interpreted', 'language']\n"
     ]
    }
   ],
   "source": [
    "s=re.split(' ',string)\n",
    "print(s)"
   ]
  },
  {
   "cell_type": "code",
   "execution_count": 105,
   "id": "b3b97c97",
   "metadata": {},
   "outputs": [
    {
     "name": "stdout",
     "output_type": "stream",
     "text": [
      "Python is high level language . Python is interpreted language\n"
     ]
    }
   ],
   "source": [
    "#replace word\n",
    "x=re.sub('low','high',string)\n",
    "print(x)"
   ]
  },
  {
   "cell_type": "code",
   "execution_count": 106,
   "id": "b46cb9bc",
   "metadata": {},
   "outputs": [
    {
     "name": "stdout",
     "output_type": "stream",
     "text": [
      "<re.Match object; span=(10, 14), match='high'>\n",
      "<re.Match object; span=(30, 34), match='high'>\n"
     ]
    }
   ],
   "source": [
    "s = \"Python is high level language high\"\n",
    "for i in re.finditer(\"high\",s):\n",
    "    print(i)"
   ]
  },
  {
   "cell_type": "code",
   "execution_count": 107,
   "id": "59b824fe",
   "metadata": {},
   "outputs": [
    {
     "name": "stdout",
     "output_type": "stream",
     "text": [
      "['Python']\n",
      "Found\n"
     ]
    }
   ],
   "source": [
    "###string starts with particular string\n",
    "\n",
    "string = \"Python is high level language\"\n",
    "x = re.findall(\"^Python\",string)\n",
    "print(x)\n",
    "if x:\n",
    "    print(\"Found\")\n",
    "else:\n",
    "    print(\"Not Found\")"
   ]
  },
  {
   "cell_type": "code",
   "execution_count": 108,
   "id": "ba34c29c",
   "metadata": {},
   "outputs": [
    {
     "name": "stdout",
     "output_type": "stream",
     "text": [
      "['language']\n",
      "Found\n"
     ]
    }
   ],
   "source": [
    "###String ends with particular string\n",
    "\n",
    "string = \"Python is high level language\"\n",
    "x = re.findall(\"language$\",string)\n",
    "print(x)\n",
    "if x:\n",
    "    print(\"Found\")\n",
    "else:\n",
    "    print(\"Not Found\")"
   ]
  },
  {
   "cell_type": "code",
   "execution_count": 109,
   "id": "375e6cd5",
   "metadata": {},
   "outputs": [
    {
     "name": "stdout",
     "output_type": "stream",
     "text": [
      "['is', 'level']\n",
      "Found\n"
     ]
    }
   ],
   "source": [
    "#OR \"|\" character checks either Or condition\n",
    "string = \"Python is high level language\"\n",
    "x = re.findall(\"is|level\",string)\n",
    "print(x)\n",
    "if x:\n",
    "    print(\"Found\")\n",
    "else:\n",
    "    print(\"Not Found\")"
   ]
  },
  {
   "cell_type": "code",
   "execution_count": 110,
   "id": "e2772f40",
   "metadata": {},
   "outputs": [
    {
     "name": "stdout",
     "output_type": "stream",
     "text": [
      "['is', 'is']\n",
      "['level']\n"
     ]
    }
   ],
   "source": [
    "#.(Dot) - used to matches only a single character except for the newline character (\\n)\n",
    "\n",
    "string = \"Python is high level language \\n is\"\n",
    "x = re.findall(\".s\",string)\n",
    "y = re.findall(\"l.v.l\",string)\n",
    "print(x)\n",
    "print(y)"
   ]
  },
  {
   "cell_type": "code",
   "execution_count": 111,
   "id": "a9c4d8ec",
   "metadata": {},
   "outputs": [
    {
     "name": "stdout",
     "output_type": "stream",
     "text": [
      "P\n",
      ".\n"
     ]
    }
   ],
   "source": [
    "#\\(Slash) - used to lose the speciality of metacharacters\n",
    "\n",
    "\n",
    "string = \"Python is high level language.\"\n",
    "x = re.search(\".\",string)\n",
    "y = re.search(\"\\.\",string)\n",
    "print(x.group())\n",
    "print(y.group())"
   ]
  },
  {
   "cell_type": "code",
   "execution_count": 112,
   "id": "b0b9088f",
   "metadata": {},
   "outputs": [
    {
     "name": "stdout",
     "output_type": "stream",
     "text": [
      "['is']\n"
     ]
    }
   ],
   "source": [
    "#*(Star) - returns the zero or more occurrences of a character in a string\n",
    "\n",
    "string = \"Python is high level language.\"\n",
    "x = re.findall(\"is+\",string)\n",
    "print(x)"
   ]
  },
  {
   "cell_type": "code",
   "execution_count": 113,
   "id": "c1ec615d",
   "metadata": {},
   "outputs": [
    {
     "name": "stdout",
     "output_type": "stream",
     "text": [
      "['P', 'H']\n",
      "['y', 't', 'h', 'o', 'n', ' ', 'i', 's', ' ', 'i', 'g', 'h', ' ', 'l', 'e', 'v', 'e', 'l', ' ', 'l', 'a', 'n', 'g', 'u', 'a', 'g', 'e', '.']\n"
     ]
    }
   ],
   "source": [
    "#[ ] (brackets) - represent a character class consisting of a set of characters\n",
    "\n",
    "string = \"Python is High level language.\"\n",
    "x = re.findall(\"[A-Z]\",string)\n",
    "print(x)\n",
    "y = re.findall(\"[^A-Z]\",string)#[^A-Z] except capital letters\n",
    "print(y)\n"
   ]
  },
  {
   "cell_type": "code",
   "execution_count": 114,
   "id": "465f0f19",
   "metadata": {},
   "outputs": [
    {
     "name": "stdout",
     "output_type": "stream",
     "text": [
      "['i', 'i']\n",
      "['is']\n"
     ]
    }
   ],
   "source": [
    "#{} (Curly brackets)-Matches exactly the specified number of occurrences\n",
    "\n",
    "string = \"Python is high level language.\"\n",
    "x = re.findall(\"is{0}\",string)\n",
    "print(x)\n",
    "y = re.findall(\"is{1}\",string)\n",
    "print(y)"
   ]
  },
  {
   "cell_type": "code",
   "execution_count": 115,
   "id": "0e24bf9f",
   "metadata": {},
   "outputs": [
    {
     "name": "stdout",
     "output_type": "stream",
     "text": [
      "['a', 'a']\n",
      "['high', 'level']\n"
     ]
    }
   ],
   "source": [
    "#( ) (Paranthesis)-used to group sub-patterns\n",
    "\n",
    "string = \"Python is high level language.\"\n",
    "x = re.findall(\"(a)\",string)\n",
    "print(x)\n",
    "y = re.findall(\"(high|level)\",string)\n",
    "print(y)"
   ]
  },
  {
   "cell_type": "code",
   "execution_count": 116,
   "id": "ea00eebf",
   "metadata": {},
   "outputs": [
    {
     "name": "stdout",
     "output_type": "stream",
     "text": [
      "['Python']\n",
      "Matches\n"
     ]
    }
   ],
   "source": [
    "#\\A- Matches if the string begins with the given string\n",
    "string = \"Python is high level language.\"\n",
    "x = re.findall(\"\\APython\",string)\n",
    "print(x)\n",
    "if x:\n",
    "    print(\"Matches\")\n",
    "else:\n",
    "    print(\"Not Matches\")"
   ]
  },
  {
   "cell_type": "code",
   "execution_count": 117,
   "id": "11a528ee",
   "metadata": {},
   "outputs": [
    {
     "name": "stdout",
     "output_type": "stream",
     "text": [
      "\\bPython\n",
      "['Python', 'Python']\n",
      "Matches\n"
     ]
    }
   ],
   "source": [
    "#\\b- Matches if the word begins or ends with the given string\n",
    "string = \"Python is high level language. Python\"\n",
    "p = r'\\b'+ \"Python\"\n",
    "print(p)\n",
    "x = re.findall(p,string)\n",
    "print(x)\n",
    "if x:\n",
    "    print(\"Matches\")\n",
    "else:\n",
    "    print(\"Not Matches\")"
   ]
  },
  {
   "cell_type": "code",
   "execution_count": 118,
   "id": "2f49be68",
   "metadata": {},
   "outputs": [
    {
     "name": "stdout",
     "output_type": "stream",
     "text": [
      "[]\n",
      "Not Matches\n"
     ]
    }
   ],
   "source": [
    " #\\d - Matches any digits [0-9]\n",
    "string = \"Python is high level language.\"\n",
    "x = re.findall(\"\\d\",string)\n",
    "print(x)\n",
    "if x:\n",
    "    print(\"Matches\")\n",
    "else:\n",
    "    print(\"Not Matches\")"
   ]
  },
  {
   "cell_type": "code",
   "execution_count": 119,
   "id": "eb7c5f6f",
   "metadata": {},
   "outputs": [
    {
     "name": "stdout",
     "output_type": "stream",
     "text": [
      "['P', 'y', 't', 'h', 'o', 'n', ' ', 'i', 's', ' ', 'h', 'i', 'g', 'h', ' ', 'l', 'e', 'v', 'e', 'l', ' ', 'l', 'a', 'n', 'g', 'u', 'a', 'g', 'e', '.']\n",
      "Matches\n"
     ]
    }
   ],
   "source": [
    "#\\D - Matches any non-digit character[^0-9]\n",
    "string = \"Python is high level language.3\"\n",
    "x = re.findall(\"\\D\",string)\n",
    "print(x)\n",
    "if x:\n",
    "    print(\"Matches\")\n",
    "else:\n",
    "    print(\"Not Matches\")"
   ]
  },
  {
   "cell_type": "code",
   "execution_count": 120,
   "id": "202b4d89",
   "metadata": {},
   "outputs": [
    {
     "name": "stdout",
     "output_type": "stream",
     "text": [
      "[' ', ' ', ' ', ' ']\n"
     ]
    }
   ],
   "source": [
    "#\\s - Matches any whitespace character\n",
    "string = \"Python is high level language.\"\n",
    "x = re.findall(\"\\s\",string)\n",
    "print(x)"
   ]
  },
  {
   "cell_type": "code",
   "execution_count": 121,
   "id": "c35ab995",
   "metadata": {},
   "outputs": [
    {
     "name": "stdout",
     "output_type": "stream",
     "text": [
      "['P', 'y', 't', 'h', 'o', 'n', 'i', 's', 'h', 'i', 'g', 'h', 'l', 'e', 'v', 'e', 'l', 'l', 'a', 'n', 'g', 'u', 'a', 'g', 'e', '.']\n",
      "Matches\n"
     ]
    }
   ],
   "source": [
    "#\\S - Matches any non-whitespace character\n",
    "string = \"Python is high level language.\"\n",
    "x = re.findall(\"\\S\",string)\n",
    "print(x)\n",
    "if x:\n",
    "    print(\"Matches\")\n",
    "else:\n",
    "    print(\"Not Matches\")"
   ]
  },
  {
   "cell_type": "code",
   "execution_count": 122,
   "id": "70913561",
   "metadata": {},
   "outputs": [
    {
     "name": "stdout",
     "output_type": "stream",
     "text": [
      "['P', 'y', 't', 'h', 'o', 'n', 'i', 's', 'h', 'i', 'g', 'h', 'l', 'e', 'v', 'e', 'l', 'l', 'a', 'n', 'g', 'u', 'a', 'g', 'e', '3']\n",
      "Matches\n"
     ]
    }
   ],
   "source": [
    "#\\w -Matches any alphanumeric character\n",
    "string = \"Python is high level language.3\"\n",
    "x = re.findall(\"\\w\",string)\n",
    "print(x)\n",
    "if x:\n",
    "    print(\"Matches\")\n",
    "else:\n",
    "    print(\"Not Matches\")"
   ]
  },
  {
   "cell_type": "code",
   "execution_count": 123,
   "id": "de7ed3dd",
   "metadata": {},
   "outputs": [
    {
     "name": "stdout",
     "output_type": "stream",
     "text": [
      "[' ', ' ', ' ', ' ', '.']\n",
      "Matches\n"
     ]
    }
   ],
   "source": [
    "#\\W -Matches any non-alphanumeric character\n",
    "string = \"Python is high level language.\"\n",
    "x = re.findall(\"\\W\",string)\n",
    "print(x)\n",
    "if x:\n",
    "    print(\"Matches\")\n",
    "else:\n",
    "    print(\"Not Matches\")"
   ]
  },
  {
   "cell_type": "code",
   "execution_count": 124,
   "id": "692209fb",
   "metadata": {},
   "outputs": [
    {
     "name": "stdout",
     "output_type": "stream",
     "text": [
      "['language.']\n",
      "Matches\n"
     ]
    }
   ],
   "source": [
    "#\\Z - Matches if the string ends with the given regex\n",
    "string = \"Python is high level language.\"\n",
    "x = re.findall(\"language.\\Z\",string)\n",
    "print(x)\n",
    "if x:\n",
    "    print(\"Matches\")\n",
    "else:\n",
    "    print(\"Not Matches\")"
   ]
  },
  {
   "cell_type": "markdown",
   "id": "fd7bfbab",
   "metadata": {},
   "source": [
    "# Applications of Regular Expressions\n",
    "1. Form Validation\n",
    "2. Pattern Extraction\n",
    "3. Data Mining\n",
    "4. Natural language Processing\n",
    "5. Social Media Platforms"
   ]
  },
  {
   "cell_type": "code",
   "execution_count": 125,
   "id": "e5f42a9d",
   "metadata": {},
   "outputs": [
    {
     "name": "stdout",
     "output_type": "stream",
     "text": [
      "Valid Mobile Number\n"
     ]
    }
   ],
   "source": [
    "# Checking Valid Mobile Number\n",
    "import re\n",
    "def isValid(number):\n",
    "    x = re.match('(0|91)?[6-9][0-9]{9}',number)\n",
    "    if(x):\n",
    "        print(\"Valid Mobile Number\")\n",
    "    else:\n",
    "        print(\"Invalid Mobile Number\")\n",
    "isValid(\"98978738743\")"
   ]
  },
  {
   "cell_type": "code",
   "execution_count": 126,
   "id": "21090097",
   "metadata": {},
   "outputs": [
    {
     "name": "stdout",
     "output_type": "stream",
     "text": [
      "['sreenivasreddicherla@gmai.com']\n"
     ]
    }
   ],
   "source": [
    "import re\n",
    "text = \"My e-mail-Id is sreenivasreddicherla@gmai.com\"\n",
    "x = re.findall(r'[\\w.-]+@[\\w.-]+',text)\n",
    "print(x)"
   ]
  },
  {
   "cell_type": "code",
   "execution_count": 127,
   "id": "d3b11144",
   "metadata": {},
   "outputs": [
    {
     "name": "stdout",
     "output_type": "stream",
     "text": [
      "['r190063']\n"
     ]
    }
   ],
   "source": [
    "import re\n",
    "text = \"My e-mail-Id is  r190063@rguktrkv.ac.in\"\n",
    "x = re.findall('([(r|R)]+[0-9]{6})+',text)\n",
    "print(x)"
   ]
  },
  {
   "cell_type": "code",
   "execution_count": 142,
   "id": "5c490707",
   "metadata": {},
   "outputs": [
    {
     "data": {
      "image/png": "[encoded data removed]",
      "text/plain": [
       "<Figure size 500x400 with 1 Axes>"
      ]
     },
     "metadata": {},
     "output_type": "display_data"
    }
   ],
   "source": [
    " "
   ]
  },
  {
   "cell_type": "code",
   "execution_count": null,
   "id": "67de8a35",
   "metadata": {},
   "outputs": [],
   "source": []
  },
  {
   "cell_type": "code",
   "execution_count": null,
   "id": "1193406b",
   "metadata": {},
   "outputs": [],
   "source": []
  },
  {
   "cell_type": "code",
   "execution_count": null,
   "id": "7f060833",
   "metadata": {},
   "outputs": [],
   "source": []
  },
  {
   "cell_type": "code",
   "execution_count": null,
   "id": "31bfacc3",
   "metadata": {},
   "outputs": [],
   "source": []
  }
 ],
 "metadata": {
  "kernelspec": {
   "display_name": "Python 3 (ipykernel)",
   "language": "python",
   "name": "python3"
  },
  "language_info": {
   "codemirror_mode": {
    "name": "ipython",
    "version": 3
   },
   "file_extension": ".py",
   "mimetype": "text/x-python",
   "name": "python",
   "nbconvert_exporter": "python",
   "pygments_lexer": "ipython3",
   "version": "3.9.13"
  }
 },
 "nbformat": 4,
 "nbformat_minor": 5
}
